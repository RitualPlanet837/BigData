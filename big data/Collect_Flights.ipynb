{
 "cells": [
  {
   "cell_type": "code",
   "execution_count": 16,
   "id": "e7d18247",
   "metadata": {},
   "outputs": [],
   "source": [
    "import requests\n",
    "import json\n",
    "from IPython.display import JSON\n",
    "from keys import *"
   ]
  },
  {
   "cell_type": "code",
   "execution_count": 17,
   "id": "f77a8652",
   "metadata": {},
   "outputs": [],
   "source": [
    "#be careful not to run too often as there is a maximum of 200 api calls per month\n",
    "\n",
    "url = \"https://aerodatabox.p.rapidapi.com/flights/airports/icao/EDDB/2025-09-01T08:00/2025-09-01T20:00\"\n",
    "\n",
    "querystring = {\"withLeg\":\"true\",\"direction\":\"Arrival\",\"withCancelled\":\"true\",\"withCodeshared\":\"true\",\"withCargo\":\"true\",\"withPrivate\":\"true\",\"withLocation\":\"false\"}\n",
    "\n",
    "headers = {\n",
    "    'x-rapidapi-host': \"aerodatabox.p.rapidapi.com\",\n",
    "    'x-rapidapi-key': flights_key\n",
    "    }\n",
    "\n",
    "response = requests.request(\"GET\", url, headers=headers, params=querystring)"
   ]
  },
  {
   "cell_type": "code",
   "execution_count": 18,
   "id": "bb32921f",
   "metadata": {},
   "outputs": [
    {
     "name": "stdout",
     "output_type": "stream",
     "text": [
      "Failed to retrieve data from the API. Status code: 403\n"
     ]
    }
   ],
   "source": [
    "if response.status_code == 200:\n",
    "    new_data = response.json()\n",
    "\n",
    "    try:\n",
    "        with open(\"data.json\", \"r\") as json_file:\n",
    "            existing_data = json.load(json_file)\n",
    "    except (FileNotFoundError, json.decoder.JSONDecodeError):\n",
    "        existing_data = []\n",
    "\n",
    "    existing_data.append(new_data)\n",
    "\n",
    "    with open(\"data.json\", \"w\") as json_file:\n",
    "        json.dump(existing_data, json_file, indent=4)\n",
    "        print(\"Data appended to data.json file.\")\n",
    "else:\n",
    "    print(\"Failed to retrieve data from the API. Status code:\", response.status_code)"
   ]
  },
  {
   "cell_type": "code",
   "execution_count": 6,
   "id": "83d35018",
   "metadata": {},
   "outputs": [
    {
     "ename": "KeyError",
     "evalue": "'arrivals'",
     "output_type": "error",
     "traceback": [
      "\u001b[1;31m---------------------------------------------------------------------------\u001b[0m",
      "\u001b[1;31mKeyError\u001b[0m                                  Traceback (most recent call last)",
      "Cell \u001b[1;32mIn[6], line 4\u001b[0m\n\u001b[0;32m      1\u001b[0m flight_arrivals \u001b[38;5;241m=\u001b[39m response\u001b[38;5;241m.\u001b[39mjson()\n\u001b[0;32m      3\u001b[0m \u001b[38;5;28;01mfor\u001b[39;00m flight \u001b[38;5;129;01min\u001b[39;00m flight_arrivals:\n\u001b[1;32m----> 4\u001b[0m     flight_arrivals[\u001b[38;5;124m'\u001b[39m\u001b[38;5;124marrivals\u001b[39m\u001b[38;5;124m'\u001b[39m][\u001b[38;5;241m0\u001b[39m][\u001b[38;5;124m'\u001b[39m\u001b[38;5;124marrival\u001b[39m\u001b[38;5;124m'\u001b[39m][\u001b[38;5;124m'\u001b[39m\u001b[38;5;124mscheduledTime\u001b[39m\u001b[38;5;124m'\u001b[39m]\n\u001b[0;32m      5\u001b[0m     flight_arrivals[\u001b[38;5;124m'\u001b[39m\u001b[38;5;124marrivals\u001b[39m\u001b[38;5;124m'\u001b[39m][\u001b[38;5;241m0\u001b[39m][\u001b[38;5;124m'\u001b[39m\u001b[38;5;124mnumber\u001b[39m\u001b[38;5;124m'\u001b[39m]\n\u001b[0;32m      6\u001b[0m     flight_arrivals[\u001b[38;5;124m'\u001b[39m\u001b[38;5;124marrivals\u001b[39m\u001b[38;5;124m'\u001b[39m][\u001b[38;5;241m0\u001b[39m][\u001b[38;5;124m'\u001b[39m\u001b[38;5;124marrival\u001b[39m\u001b[38;5;124m'\u001b[39m][\u001b[38;5;124m'\u001b[39m\u001b[38;5;124mterminal\u001b[39m\u001b[38;5;124m'\u001b[39m]\n",
      "\u001b[1;31mKeyError\u001b[0m: 'arrivals'"
     ]
    }
   ],
   "source": [
    "flight_arrivals = response.json()\n",
    "\n",
    "for flight in flight_arrivals:\n",
    "    flight_arrivals['arrivals'][0]['arrival']['scheduledTime']\n",
    "    flight_arrivals['arrivals'][0]['number']\n",
    "    flight_arrivals['arrivals'][0]['arrival']['terminal']\n",
    "    flight_arrivals['arrivals'][0]['departure']['airport']['name']\n",
    "    flight_arrivals['arrivals'][0]['aircraft']['model']\n",
    "    flight_arrivals['arrivals'][0]['airline']['name']"
   ]
  },
  {
   "cell_type": "code",
   "execution_count": 7,
   "id": "19fee5ce",
   "metadata": {},
   "outputs": [
    {
     "ename": "KeyError",
     "evalue": "'arrivals'",
     "output_type": "error",
     "traceback": [
      "\u001b[1;31m---------------------------------------------------------------------------\u001b[0m",
      "\u001b[1;31mKeyError\u001b[0m                                  Traceback (most recent call last)",
      "Cell \u001b[1;32mIn[7], line 17\u001b[0m\n\u001b[0;32m      7\u001b[0m     flights_df \u001b[38;5;241m=\u001b[39m pd\u001b[38;5;241m.\u001b[39mjson_normalize({\n\u001b[0;32m      8\u001b[0m         \u001b[38;5;124m'\u001b[39m\u001b[38;5;124mScheduled_arrival_time\u001b[39m\u001b[38;5;124m'\u001b[39m: flights[\u001b[38;5;124m'\u001b[39m\u001b[38;5;124marrival\u001b[39m\u001b[38;5;124m'\u001b[39m][\u001b[38;5;124m'\u001b[39m\u001b[38;5;124mscheduledTime\u001b[39m\u001b[38;5;124m'\u001b[39m],\n\u001b[0;32m      9\u001b[0m         \u001b[38;5;124m'\u001b[39m\u001b[38;5;124mflight_number\u001b[39m\u001b[38;5;124m'\u001b[39m: flights[\u001b[38;5;124m'\u001b[39m\u001b[38;5;124mnumber\u001b[39m\u001b[38;5;124m'\u001b[39m],\n\u001b[1;32m   (...)\u001b[0m\n\u001b[0;32m     12\u001b[0m         \u001b[38;5;124m'\u001b[39m\u001b[38;5;124maircraft\u001b[39m\u001b[38;5;124m'\u001b[39m : flights[\u001b[38;5;124m'\u001b[39m\u001b[38;5;124maircraft\u001b[39m\u001b[38;5;124m'\u001b[39m][\u001b[38;5;124m'\u001b[39m\u001b[38;5;124mmodel\u001b[39m\u001b[38;5;124m'\u001b[39m]\n\u001b[0;32m     13\u001b[0m     })\n\u001b[0;32m     14\u001b[0m     \u001b[38;5;28;01mreturn\u001b[39;00m(flights_df)\n\u001b[0;32m     16\u001b[0m flight_arrivals \u001b[38;5;241m=\u001b[39m pd\u001b[38;5;241m.\u001b[39mconcat(\n\u001b[1;32m---> 17\u001b[0m     [flight_extraction(flight) \u001b[38;5;28;01mfor\u001b[39;00m flight \u001b[38;5;129;01min\u001b[39;00m flight_arrivals[\u001b[38;5;124m'\u001b[39m\u001b[38;5;124marrivals\u001b[39m\u001b[38;5;124m'\u001b[39m]]\n\u001b[0;32m     18\u001b[0m )\n\u001b[0;32m     20\u001b[0m flight_arrivals\u001b[38;5;241m.\u001b[39mhead()\n",
      "\u001b[1;31mKeyError\u001b[0m: 'arrivals'"
     ]
    }
   ],
   "source": [
    "import pandas as pd\n",
    "from numpy import nan\n",
    "\n",
    "flight_arrivals = response.json()\n",
    "\n",
    "def flight_extraction(flights):\n",
    "    flights_df = pd.json_normalize({\n",
    "        'Scheduled_arrival_time': flights['arrival']['scheduledTime'],\n",
    "        'flight_number': flights['number'],\n",
    "        'from' : flights['departure']['airport']['name'],\n",
    "        'airline' : flights['airline']['name'],\n",
    "        'aircraft' : flights['aircraft']['model']\n",
    "    })\n",
    "    return(flights_df)\n",
    "\n",
    "flight_arrivals = pd.concat(\n",
    "    [flight_extraction(flight) for flight in flight_arrivals['arrivals']]\n",
    ")\n",
    "\n",
    "flight_arrivals.head()"
   ]
  }
 ],
 "metadata": {
  "kernelspec": {
   "display_name": "base",
   "language": "python",
   "name": "python3"
  },
  "language_info": {
   "codemirror_mode": {
    "name": "ipython",
    "version": 3
   },
   "file_extension": ".py",
   "mimetype": "text/x-python",
   "name": "python",
   "nbconvert_exporter": "python",
   "pygments_lexer": "ipython3",
   "version": "3.11.7"
  }
 },
 "nbformat": 4,
 "nbformat_minor": 5
}
